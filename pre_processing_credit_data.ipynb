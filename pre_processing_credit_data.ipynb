{
 "cells": [
  {
   "cell_type": "markdown",
   "metadata": {},
   "source": [
    "## Importação das bibliotecas básicas"
   ]
  },
  {
   "cell_type": "code",
   "execution_count": 3,
   "metadata": {},
   "outputs": [
    {
     "name": "stdout",
     "output_type": "stream",
     "text": [
      "Requirement already satisfied: plotly in c:\\users\\adm\\anaconda3\\lib\\site-packages (5.9.0)\n",
      "Collecting plotly\n",
      "  Downloading plotly-5.19.0-py3-none-any.whl.metadata (7.0 kB)\n",
      "Requirement already satisfied: tenacity>=6.2.0 in c:\\users\\adm\\anaconda3\\lib\\site-packages (from plotly) (8.2.2)\n",
      "Requirement already satisfied: packaging in c:\\users\\adm\\anaconda3\\lib\\site-packages (from plotly) (23.1)\n",
      "Downloading plotly-5.19.0-py3-none-any.whl (15.7 MB)\n",
      "   ---------------------------------------- 0.0/15.7 MB ? eta -:--:--\n",
      "   ---------------------------------------- 0.1/15.7 MB 1.6 MB/s eta 0:00:10\n",
      "   - -------------------------------------- 0.6/15.7 MB 7.2 MB/s eta 0:00:03\n",
      "   --- ------------------------------------ 1.2/15.7 MB 9.9 MB/s eta 0:00:02\n",
      "   ---- ----------------------------------- 2.0/15.7 MB 11.3 MB/s eta 0:00:02\n",
      "   ------- -------------------------------- 2.8/15.7 MB 12.7 MB/s eta 0:00:02\n",
      "   --------- ------------------------------ 3.8/15.7 MB 14.3 MB/s eta 0:00:01\n",
      "   ------------ --------------------------- 5.0/15.7 MB 16.1 MB/s eta 0:00:01\n",
      "   ---------------- ----------------------- 6.4/15.7 MB 17.8 MB/s eta 0:00:01\n",
      "   -------------------- ------------------- 8.1/15.7 MB 19.9 MB/s eta 0:00:01\n",
      "   ------------------------- -------------- 9.9/15.7 MB 21.9 MB/s eta 0:00:01\n",
      "   ------------------------------ --------- 11.8/15.7 MB 28.5 MB/s eta 0:00:01\n",
      "   ----------------------------------- ---- 14.0/15.7 MB 36.4 MB/s eta 0:00:01\n",
      "   ---------------------------------------  15.7/15.7 MB 40.9 MB/s eta 0:00:01\n",
      "   ---------------------------------------- 15.7/15.7 MB 36.3 MB/s eta 0:00:00\n",
      "Installing collected packages: plotly\n",
      "  Attempting uninstall: plotly\n",
      "    Found existing installation: plotly 5.9.0\n",
      "    Uninstalling plotly-5.9.0:\n",
      "      Successfully uninstalled plotly-5.9.0\n",
      "Successfully installed plotly-5.19.0\n"
     ]
    }
   ],
   "source": [
    "!pip install plotly --upgrade"
   ]
  },
  {
   "cell_type": "code",
   "execution_count": 4,
   "metadata": {},
   "outputs": [],
   "source": [
    "import pandas as pd\n",
    "import numpy as np\n",
    "import seaborn as sns\n",
    "import matplotlib.pyplot as plt\n",
    "import plotly.express as px"
   ]
  },
  {
   "cell_type": "markdown",
   "metadata": {},
   "source": [
    "## Base de dados de crédito"
   ]
  },
  {
   "cell_type": "markdown",
   "metadata": {},
   "source": [
    "### Exploração de dados"
   ]
  },
  {
   "cell_type": "markdown",
   "metadata": {},
   "source": []
  }
 ],
 "metadata": {
  "kernelspec": {
   "display_name": "base",
   "language": "python",
   "name": "python3"
  },
  "language_info": {
   "codemirror_mode": {
    "name": "ipython",
    "version": 3
   },
   "file_extension": ".py",
   "mimetype": "text/x-python",
   "name": "python",
   "nbconvert_exporter": "python",
   "pygments_lexer": "ipython3",
   "version": "3.11.7"
  }
 },
 "nbformat": 4,
 "nbformat_minor": 2
}
